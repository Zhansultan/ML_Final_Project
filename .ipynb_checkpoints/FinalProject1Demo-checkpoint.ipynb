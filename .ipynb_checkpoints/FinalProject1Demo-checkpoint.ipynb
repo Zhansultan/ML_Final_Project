{
 "cells": [
  {
   "cell_type": "code",
   "execution_count": 1,
   "metadata": {},
   "outputs": [],
   "source": [
    "from IPython.display import display, HTML\n",
    "\n",
    "def show_df(df):\n",
    "    display(df.shape)\n",
    "    display(df.head())"
   ]
  },
  {
   "cell_type": "code",
   "execution_count": 2,
   "metadata": {},
   "outputs": [
    {
     "data": {
      "text/plain": [
       "(9984, 7)"
      ]
     },
     "metadata": {},
     "output_type": "display_data"
    },
    {
     "data": {
      "text/html": [
       "<div>\n",
       "<style scoped>\n",
       "    .dataframe tbody tr th:only-of-type {\n",
       "        vertical-align: middle;\n",
       "    }\n",
       "\n",
       "    .dataframe tbody tr th {\n",
       "        vertical-align: top;\n",
       "    }\n",
       "\n",
       "    .dataframe thead th {\n",
       "        text-align: right;\n",
       "    }\n",
       "</style>\n",
       "<table border=\"1\" class=\"dataframe\">\n",
       "  <thead>\n",
       "    <tr style=\"text-align: right;\">\n",
       "      <th></th>\n",
       "      <th>_id</th>\n",
       "      <th>name</th>\n",
       "      <th>locationStatus</th>\n",
       "      <th>direction</th>\n",
       "      <th>timestamp</th>\n",
       "      <th>rssiOne</th>\n",
       "      <th>rssiTwo</th>\n",
       "    </tr>\n",
       "  </thead>\n",
       "  <tbody>\n",
       "    <tr>\n",
       "      <th>0</th>\n",
       "      <td>4744423E612A1ED103904DB4F5987BA6</td>\n",
       "      <td>FF:FF:C2:1D:9B:54</td>\n",
       "      <td>OUTSIDE</td>\n",
       "      <td>FROM_INSIDE_TO_OUTSIDE</td>\n",
       "      <td>1551367500637</td>\n",
       "      <td>-79</td>\n",
       "      <td>-90</td>\n",
       "    </tr>\n",
       "    <tr>\n",
       "      <th>1</th>\n",
       "      <td>C245BE3DABC6B3B534FD3D0E660049B2</td>\n",
       "      <td>FF:FF:C2:1D:9B:54</td>\n",
       "      <td>OUTSIDE</td>\n",
       "      <td>FROM_INSIDE_TO_OUTSIDE</td>\n",
       "      <td>1551367501323</td>\n",
       "      <td>-81</td>\n",
       "      <td>-90</td>\n",
       "    </tr>\n",
       "    <tr>\n",
       "      <th>2</th>\n",
       "      <td>854BB66FF73F63F0FB15149B80434D80</td>\n",
       "      <td>FF:FF:C2:1D:9B:54</td>\n",
       "      <td>OUTSIDE</td>\n",
       "      <td>FROM_INSIDE_TO_OUTSIDE</td>\n",
       "      <td>1551367502416</td>\n",
       "      <td>-83</td>\n",
       "      <td>-91</td>\n",
       "    </tr>\n",
       "    <tr>\n",
       "      <th>3</th>\n",
       "      <td>1E448462718ADB1DD73E9553A7B268B7</td>\n",
       "      <td>FF:FF:C2:1D:9B:54</td>\n",
       "      <td>OUTSIDE</td>\n",
       "      <td>FROM_INSIDE_TO_OUTSIDE</td>\n",
       "      <td>1551367504813</td>\n",
       "      <td>-80</td>\n",
       "      <td>-91</td>\n",
       "    </tr>\n",
       "    <tr>\n",
       "      <th>4</th>\n",
       "      <td>0D4BAE97FE52DBAF3E596C72CC45C78F</td>\n",
       "      <td>FF:FF:C2:1D:9B:54</td>\n",
       "      <td>OUTSIDE</td>\n",
       "      <td>FROM_INSIDE_TO_OUTSIDE</td>\n",
       "      <td>1551367504813</td>\n",
       "      <td>-80</td>\n",
       "      <td>-91</td>\n",
       "    </tr>\n",
       "  </tbody>\n",
       "</table>\n",
       "</div>"
      ],
      "text/plain": [
       "                                _id               name locationStatus  \\\n",
       "0  4744423E612A1ED103904DB4F5987BA6  FF:FF:C2:1D:9B:54        OUTSIDE   \n",
       "1  C245BE3DABC6B3B534FD3D0E660049B2  FF:FF:C2:1D:9B:54        OUTSIDE   \n",
       "2  854BB66FF73F63F0FB15149B80434D80  FF:FF:C2:1D:9B:54        OUTSIDE   \n",
       "3  1E448462718ADB1DD73E9553A7B268B7  FF:FF:C2:1D:9B:54        OUTSIDE   \n",
       "4  0D4BAE97FE52DBAF3E596C72CC45C78F  FF:FF:C2:1D:9B:54        OUTSIDE   \n",
       "\n",
       "                direction      timestamp  rssiOne  rssiTwo  \n",
       "0  FROM_INSIDE_TO_OUTSIDE  1551367500637      -79      -90  \n",
       "1  FROM_INSIDE_TO_OUTSIDE  1551367501323      -81      -90  \n",
       "2  FROM_INSIDE_TO_OUTSIDE  1551367502416      -83      -91  \n",
       "3  FROM_INSIDE_TO_OUTSIDE  1551367504813      -80      -91  \n",
       "4  FROM_INSIDE_TO_OUTSIDE  1551367504813      -80      -91  "
      ]
     },
     "metadata": {},
     "output_type": "display_data"
    },
    {
     "data": {
      "text/plain": [
       "FROM_INSIDE_TO_OUTSIDE    4540\n",
       "FROM_OUTSIDE_TO_INSIDE    4178\n",
       "UNKNOWN                   1266\n",
       "Name: direction, dtype: int64"
      ]
     },
     "metadata": {},
     "output_type": "display_data"
    },
    {
     "data": {
      "text/plain": [
       "0    4540\n",
       "1    4178\n",
       "Name: direction, dtype: int64"
      ]
     },
     "metadata": {},
     "output_type": "display_data"
    }
   ],
   "source": [
    "import pandas as pd\n",
    "raw_dataset = pd.read_csv(\"FinalProject1_dataset.csv\")\n",
    "show_df(raw_dataset)\n",
    "display(raw_dataset[\"direction\"].value_counts())\n",
    "\n",
    "raw_dataset = raw_dataset[raw_dataset.direction != 'UNKNOWN']\n",
    "#raw_dataset.direction[\"FROM_INSIDE_TO_OUTSIDE\"] = 0\n",
    "#raw_dataset.direction[\"FROM_OUTSIDE_TO_INSIDE\"] = 1\n",
    "raw_dataset = raw_dataset.replace(\"FROM_INSIDE_TO_OUTSIDE\", 0)\n",
    "raw_dataset = raw_dataset.replace(\"FROM_OUTSIDE_TO_INSIDE\", 1)\n",
    "display(raw_dataset[\"direction\"].value_counts())"
   ]
  },
  {
   "cell_type": "code",
   "execution_count": 3,
   "metadata": {},
   "outputs": [
    {
     "data": {
      "text/plain": [
       "(8718, 5)"
      ]
     },
     "metadata": {},
     "output_type": "display_data"
    },
    {
     "data": {
      "text/html": [
       "<div>\n",
       "<style scoped>\n",
       "    .dataframe tbody tr th:only-of-type {\n",
       "        vertical-align: middle;\n",
       "    }\n",
       "\n",
       "    .dataframe tbody tr th {\n",
       "        vertical-align: top;\n",
       "    }\n",
       "\n",
       "    .dataframe thead th {\n",
       "        text-align: right;\n",
       "    }\n",
       "</style>\n",
       "<table border=\"1\" class=\"dataframe\">\n",
       "  <thead>\n",
       "    <tr style=\"text-align: right;\">\n",
       "      <th></th>\n",
       "      <th>name</th>\n",
       "      <th>locationStatus</th>\n",
       "      <th>direction</th>\n",
       "      <th>rssiOne</th>\n",
       "      <th>rssiTwo</th>\n",
       "    </tr>\n",
       "  </thead>\n",
       "  <tbody>\n",
       "    <tr>\n",
       "      <th>0</th>\n",
       "      <td>FF:FF:C2:1D:9B:54</td>\n",
       "      <td>OUTSIDE</td>\n",
       "      <td>0</td>\n",
       "      <td>-79</td>\n",
       "      <td>-90</td>\n",
       "    </tr>\n",
       "    <tr>\n",
       "      <th>1</th>\n",
       "      <td>FF:FF:C2:1D:9B:54</td>\n",
       "      <td>OUTSIDE</td>\n",
       "      <td>0</td>\n",
       "      <td>-81</td>\n",
       "      <td>-90</td>\n",
       "    </tr>\n",
       "    <tr>\n",
       "      <th>2</th>\n",
       "      <td>FF:FF:C2:1D:9B:54</td>\n",
       "      <td>OUTSIDE</td>\n",
       "      <td>0</td>\n",
       "      <td>-83</td>\n",
       "      <td>-91</td>\n",
       "    </tr>\n",
       "    <tr>\n",
       "      <th>3</th>\n",
       "      <td>FF:FF:C2:1D:9B:54</td>\n",
       "      <td>OUTSIDE</td>\n",
       "      <td>0</td>\n",
       "      <td>-80</td>\n",
       "      <td>-91</td>\n",
       "    </tr>\n",
       "    <tr>\n",
       "      <th>4</th>\n",
       "      <td>FF:FF:C2:1D:9B:54</td>\n",
       "      <td>OUTSIDE</td>\n",
       "      <td>0</td>\n",
       "      <td>-80</td>\n",
       "      <td>-91</td>\n",
       "    </tr>\n",
       "  </tbody>\n",
       "</table>\n",
       "</div>"
      ],
      "text/plain": [
       "                name locationStatus  direction  rssiOne  rssiTwo\n",
       "0  FF:FF:C2:1D:9B:54        OUTSIDE          0      -79      -90\n",
       "1  FF:FF:C2:1D:9B:54        OUTSIDE          0      -81      -90\n",
       "2  FF:FF:C2:1D:9B:54        OUTSIDE          0      -83      -91\n",
       "3  FF:FF:C2:1D:9B:54        OUTSIDE          0      -80      -91\n",
       "4  FF:FF:C2:1D:9B:54        OUTSIDE          0      -80      -91"
      ]
     },
     "metadata": {},
     "output_type": "display_data"
    }
   ],
   "source": [
    "#clean_dataset = raw_dataset.drop([\"direction\", \"timestamp\", \"_id\"], axis=1)\n",
    "clean_dataset = raw_dataset.drop([\"timestamp\", \"_id\"], axis=1)\n",
    "show_df(clean_dataset)"
   ]
  },
  {
   "cell_type": "code",
   "execution_count": 4,
   "metadata": {},
   "outputs": [
    {
     "data": {
      "text/html": [
       "<div>\n",
       "<style scoped>\n",
       "    .dataframe tbody tr th:only-of-type {\n",
       "        vertical-align: middle;\n",
       "    }\n",
       "\n",
       "    .dataframe tbody tr th {\n",
       "        vertical-align: top;\n",
       "    }\n",
       "\n",
       "    .dataframe thead th {\n",
       "        text-align: right;\n",
       "    }\n",
       "</style>\n",
       "<table border=\"1\" class=\"dataframe\">\n",
       "  <thead>\n",
       "    <tr style=\"text-align: right;\">\n",
       "      <th></th>\n",
       "      <th>direction</th>\n",
       "      <th>rssiOne</th>\n",
       "      <th>rssiTwo</th>\n",
       "    </tr>\n",
       "  </thead>\n",
       "  <tbody>\n",
       "    <tr>\n",
       "      <th>5817</th>\n",
       "      <td>0</td>\n",
       "      <td>-85</td>\n",
       "      <td>-63</td>\n",
       "    </tr>\n",
       "    <tr>\n",
       "      <th>3933</th>\n",
       "      <td>1</td>\n",
       "      <td>-87</td>\n",
       "      <td>-81</td>\n",
       "    </tr>\n",
       "    <tr>\n",
       "      <th>6632</th>\n",
       "      <td>0</td>\n",
       "      <td>-75</td>\n",
       "      <td>-86</td>\n",
       "    </tr>\n",
       "    <tr>\n",
       "      <th>4167</th>\n",
       "      <td>1</td>\n",
       "      <td>-82</td>\n",
       "      <td>-76</td>\n",
       "    </tr>\n",
       "    <tr>\n",
       "      <th>488</th>\n",
       "      <td>0</td>\n",
       "      <td>-78</td>\n",
       "      <td>-89</td>\n",
       "    </tr>\n",
       "  </tbody>\n",
       "</table>\n",
       "</div>"
      ],
      "text/plain": [
       "      direction  rssiOne  rssiTwo\n",
       "5817          0      -85      -63\n",
       "3933          1      -87      -81\n",
       "6632          0      -75      -86\n",
       "4167          1      -82      -76\n",
       "488           0      -78      -89"
      ]
     },
     "execution_count": 4,
     "metadata": {},
     "output_type": "execute_result"
    }
   ],
   "source": [
    "import numpy as np\n",
    "from sklearn.model_selection import train_test_split\n",
    "\n",
    "x = clean_dataset.drop([\"locationStatus\", \"name\"], axis=1)\n",
    "y = clean_dataset[\"locationStatus\"]\n",
    "\n",
    "X_train, X_test, y_train, y_test = train_test_split(x,y, test_size=0.3, stratify=y)\n",
    "X_train.head()"
   ]
  },
  {
   "cell_type": "code",
   "execution_count": 5,
   "metadata": {},
   "outputs": [
    {
     "data": {
      "text/plain": [
       "[<matplotlib.lines.Line2D at 0x1f1ae21e7b8>]"
      ]
     },
     "execution_count": 5,
     "metadata": {},
     "output_type": "execute_result"
    }
   ],
   "source": [
    "import matplotlib.pyplot as plt\n",
    "\n",
    "raw_dataset[\"rssiOne\"]\n",
    "plt.plot(raw_dataset[\"timestamp\"], raw_dataset[\"rssiOne\"])"
   ]
  },
  {
   "cell_type": "code",
   "execution_count": 6,
   "metadata": {},
   "outputs": [
    {
     "data": {
      "text/plain": [
       "array(['IN_VESTIBULE', 'IN_VESTIBULE', 'INSIDE', ..., 'IN_VESTIBULE',\n",
       "       'OUTSIDE', 'IN_VESTIBULE'], dtype='<U12')"
      ]
     },
     "execution_count": 6,
     "metadata": {},
     "output_type": "execute_result"
    }
   ],
   "source": [
    "from sklearn.naive_bayes import GaussianNB\n",
    "gnb = GaussianNB()\n",
    "y_pred = gnb.fit(X_train, y_train).predict(X_test)\n",
    "y_pred"
   ]
  },
  {
   "cell_type": "code",
   "execution_count": 7,
   "metadata": {},
   "outputs": [
    {
     "name": "stdout",
     "output_type": "stream",
     "text": [
      "[[418 147 170]\n",
      " [116 701 156]\n",
      " [128 121 659]]\n",
      "              precision    recall  f1-score   support\n",
      "\n",
      "      INSIDE       0.63      0.57      0.60       735\n",
      "IN_VESTIBULE       0.72      0.72      0.72       973\n",
      "     OUTSIDE       0.67      0.73      0.70       908\n",
      "\n",
      "   micro avg       0.68      0.68      0.68      2616\n",
      "   macro avg       0.67      0.67      0.67      2616\n",
      "weighted avg       0.68      0.68      0.68      2616\n",
      "\n"
     ]
    }
   ],
   "source": [
    "from sklearn.metrics import confusion_matrix\n",
    "from sklearn.metrics import f1_score\n",
    "from sklearn.metrics import classification_report\n",
    "\n",
    "print(confusion_matrix(y_test, y_pred))\n",
    "print(classification_report(y_test, y_pred))"
   ]
  },
  {
   "cell_type": "code",
   "execution_count": 8,
   "metadata": {},
   "outputs": [
    {
     "name": "stdout",
     "output_type": "stream",
     "text": [
      "[[506 156  73]\n",
      " [169 663 141]\n",
      " [109 138 661]]\n",
      "              precision    recall  f1-score   support\n",
      "\n",
      "      INSIDE       0.65      0.69      0.67       735\n",
      "IN_VESTIBULE       0.69      0.68      0.69       973\n",
      "     OUTSIDE       0.76      0.73      0.74       908\n",
      "\n",
      "   micro avg       0.70      0.70      0.70      2616\n",
      "   macro avg       0.70      0.70      0.70      2616\n",
      "weighted avg       0.70      0.70      0.70      2616\n",
      "\n"
     ]
    }
   ],
   "source": [
    "from sklearn import tree\n",
    "\n",
    "clf = tree.DecisionTreeClassifier()\n",
    "y_pred = clf.fit(X_train, y_train).predict(X_test)\n",
    "print(confusion_matrix(y_test, y_pred))\n",
    "print(classification_report(y_test, y_pred))"
   ]
  },
  {
   "cell_type": "code",
   "execution_count": 9,
   "metadata": {},
   "outputs": [
    {
     "name": "stdout",
     "output_type": "stream",
     "text": [
      "DecisionTreeClassifier(class_weight=None, criterion='gini', max_depth=None,\n",
      "            max_features=None, max_leaf_nodes=None,\n",
      "            min_impurity_decrease=0.0, min_impurity_split=None,\n",
      "            min_samples_leaf=1, min_samples_split=2,\n",
      "            min_weight_fraction_leaf=0.0, presort=False, random_state=None,\n",
      "            splitter='best')\n",
      "              precision    recall  f1-score   support\n",
      "\n",
      "      INSIDE       0.74      0.75      0.75      2449\n",
      "IN_VESTIBULE       0.79      0.78      0.78      3242\n",
      "     OUTSIDE       0.80      0.81      0.81      3027\n",
      "\n",
      "   micro avg       0.78      0.78      0.78      8718\n",
      "   macro avg       0.78      0.78      0.78      8718\n",
      "weighted avg       0.78      0.78      0.78      8718\n",
      "\n",
      "[[1835  346  268]\n",
      " [ 387 2526  329]\n",
      " [ 250  331 2446]]\n"
     ]
    }
   ],
   "source": [
    "from sklearn import metrics\n",
    "from sklearn.tree import DecisionTreeClassifier\n",
    "# fit a CART model to the data\n",
    "model = DecisionTreeClassifier()\n",
    "model.fit(x, y)\n",
    "print(model)\n",
    "# make predictions\n",
    "expected = y\n",
    "predicted = model.predict(x)\n",
    "# summarize the fit of the model\n",
    "print(metrics.classification_report(expected, predicted))\n",
    "print(metrics.confusion_matrix(expected, predicted))"
   ]
  },
  {
   "cell_type": "code",
   "execution_count": 10,
   "metadata": {},
   "outputs": [
    {
     "name": "stderr",
     "output_type": "stream",
     "text": [
      "C:\\anaconda\\lib\\site-packages\\sklearn\\svm\\base.py:196: FutureWarning: The default value of gamma will change from 'auto' to 'scale' in version 0.22 to account better for unscaled features. Set gamma explicitly to 'auto' or 'scale' to avoid this warning.\n",
      "  \"avoid this warning.\", FutureWarning)\n"
     ]
    },
    {
     "name": "stdout",
     "output_type": "stream",
     "text": [
      "SVC(C=1.0, cache_size=200, class_weight=None, coef0=0.0,\n",
      "  decision_function_shape='ovr', degree=3, gamma='auto_deprecated',\n",
      "  kernel='rbf', max_iter=-1, probability=False, random_state=None,\n",
      "  shrinking=True, tol=0.001, verbose=False)\n",
      "              precision    recall  f1-score   support\n",
      "\n",
      "      INSIDE       0.74      0.68      0.71      2449\n",
      "IN_VESTIBULE       0.77      0.74      0.76      3242\n",
      "     OUTSIDE       0.75      0.83      0.79      3027\n",
      "\n",
      "   micro avg       0.76      0.76      0.76      8718\n",
      "   macro avg       0.76      0.75      0.75      8718\n",
      "weighted avg       0.76      0.76      0.76      8718\n",
      "\n",
      "[[1670  443  336]\n",
      " [ 347 2412  483]\n",
      " [ 230  286 2511]]\n"
     ]
    }
   ],
   "source": [
    "from sklearn import metrics\n",
    "from sklearn.svm import SVC\n",
    "# fit a SVM model to the data\n",
    "model = SVC()\n",
    "model.fit(x, y)\n",
    "print(model)\n",
    "# make predictions\n",
    "expected = y\n",
    "predicted = model.predict(x)\n",
    "# summarize the fit of the model\n",
    "print(metrics.classification_report(expected, predicted))\n",
    "print(metrics.confusion_matrix(expected, predicted))"
   ]
  },
  {
   "cell_type": "code",
   "execution_count": 11,
   "metadata": {},
   "outputs": [
    {
     "name": "stdout",
     "output_type": "stream",
     "text": [
      "KNeighborsClassifier(algorithm='auto', leaf_size=30, metric='minkowski',\n",
      "           metric_params=None, n_jobs=None, n_neighbors=5, p=2,\n",
      "           weights='uniform')\n",
      "              precision    recall  f1-score   support\n",
      "\n",
      "      INSIDE       0.71      0.69      0.70      2449\n",
      "IN_VESTIBULE       0.76      0.75      0.75      3242\n",
      "     OUTSIDE       0.77      0.80      0.78      3027\n",
      "\n",
      "   micro avg       0.75      0.75      0.75      8718\n",
      "   macro avg       0.75      0.75      0.75      8718\n",
      "weighted avg       0.75      0.75      0.75      8718\n",
      "\n",
      "[[1693  433  323]\n",
      " [ 412 2425  405]\n",
      " [ 277  340 2410]]\n"
     ]
    }
   ],
   "source": [
    "from sklearn import metrics\n",
    "from sklearn.neighbors import KNeighborsClassifier\n",
    "# fit a k-nearest neighbor model to the data\n",
    "model = KNeighborsClassifier()\n",
    "model.fit(x, y)\n",
    "print(model)\n",
    "# make predictions\n",
    "expected = y\n",
    "predicted = model.predict(x)\n",
    "# summarize the fit of the model\n",
    "print(metrics.classification_report(expected, predicted))\n",
    "print(metrics.confusion_matrix(expected, predicted))"
   ]
  },
  {
   "cell_type": "code",
   "execution_count": 12,
   "metadata": {},
   "outputs": [
    {
     "name": "stdout",
     "output_type": "stream",
     "text": [
      "GaussianNB(priors=None, var_smoothing=1e-09)\n",
      "              precision    recall  f1-score   support\n",
      "\n",
      "      INSIDE       0.65      0.59      0.62      2449\n",
      "IN_VESTIBULE       0.74      0.74      0.74      3242\n",
      "     OUTSIDE       0.67      0.72      0.70      3027\n",
      "\n",
      "   micro avg       0.69      0.69      0.69      8718\n",
      "   macro avg       0.69      0.68      0.68      8718\n",
      "weighted avg       0.69      0.69      0.69      8718\n",
      "\n",
      "[[1450  430  569]\n",
      " [ 363 2383  496]\n",
      " [ 415  419 2193]]\n"
     ]
    }
   ],
   "source": [
    "from sklearn import metrics\n",
    "from sklearn.naive_bayes import GaussianNB\n",
    "model = GaussianNB()\n",
    "model.fit(x, y)\n",
    "print(model)\n",
    "# make predictions\n",
    "expected = y\n",
    "predicted = model.predict(x)\n",
    "# summarize the fit of the model\n",
    "print(metrics.classification_report(expected, predicted))\n",
    "print(metrics.confusion_matrix(expected, predicted))"
   ]
  },
  {
   "cell_type": "code",
   "execution_count": null,
   "metadata": {},
   "outputs": [],
   "source": []
  },
  {
   "cell_type": "code",
   "execution_count": null,
   "metadata": {},
   "outputs": [],
   "source": []
  }
 ],
 "metadata": {
  "kernelspec": {
   "display_name": "Python 3",
   "language": "python",
   "name": "python3"
  },
  "language_info": {
   "codemirror_mode": {
    "name": "ipython",
    "version": 3
   },
   "file_extension": ".py",
   "mimetype": "text/x-python",
   "name": "python",
   "nbconvert_exporter": "python",
   "pygments_lexer": "ipython3",
   "version": "3.7.1"
  }
 },
 "nbformat": 4,
 "nbformat_minor": 2
}
