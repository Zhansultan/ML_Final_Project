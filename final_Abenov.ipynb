{
 "cells": [
  {
   "cell_type": "code",
   "execution_count": 1,
   "metadata": {},
   "outputs": [],
   "source": [
    "from IPython.display import display, HTML\n",
    "\n",
    "def show_df(df):\n",
    "    display(df.shape)\n",
    "    display(df.head())"
   ]
  },
  {
   "cell_type": "code",
   "execution_count": 2,
   "metadata": {},
   "outputs": [
    {
     "data": {
      "text/plain": [
       "(9984, 7)"
      ]
     },
     "metadata": {},
     "output_type": "display_data"
    },
    {
     "data": {
      "text/html": [
       "<div>\n",
       "<style scoped>\n",
       "    .dataframe tbody tr th:only-of-type {\n",
       "        vertical-align: middle;\n",
       "    }\n",
       "\n",
       "    .dataframe tbody tr th {\n",
       "        vertical-align: top;\n",
       "    }\n",
       "\n",
       "    .dataframe thead th {\n",
       "        text-align: right;\n",
       "    }\n",
       "</style>\n",
       "<table border=\"1\" class=\"dataframe\">\n",
       "  <thead>\n",
       "    <tr style=\"text-align: right;\">\n",
       "      <th></th>\n",
       "      <th>_id</th>\n",
       "      <th>name</th>\n",
       "      <th>locationStatus</th>\n",
       "      <th>direction</th>\n",
       "      <th>timestamp</th>\n",
       "      <th>rssiOne</th>\n",
       "      <th>rssiTwo</th>\n",
       "    </tr>\n",
       "  </thead>\n",
       "  <tbody>\n",
       "    <tr>\n",
       "      <th>0</th>\n",
       "      <td>4744423E612A1ED103904DB4F5987BA6</td>\n",
       "      <td>FF:FF:C2:1D:9B:54</td>\n",
       "      <td>OUTSIDE</td>\n",
       "      <td>FROM_INSIDE_TO_OUTSIDE</td>\n",
       "      <td>1551367500637</td>\n",
       "      <td>-79</td>\n",
       "      <td>-90</td>\n",
       "    </tr>\n",
       "    <tr>\n",
       "      <th>1</th>\n",
       "      <td>C245BE3DABC6B3B534FD3D0E660049B2</td>\n",
       "      <td>FF:FF:C2:1D:9B:54</td>\n",
       "      <td>OUTSIDE</td>\n",
       "      <td>FROM_INSIDE_TO_OUTSIDE</td>\n",
       "      <td>1551367501323</td>\n",
       "      <td>-81</td>\n",
       "      <td>-90</td>\n",
       "    </tr>\n",
       "    <tr>\n",
       "      <th>2</th>\n",
       "      <td>854BB66FF73F63F0FB15149B80434D80</td>\n",
       "      <td>FF:FF:C2:1D:9B:54</td>\n",
       "      <td>OUTSIDE</td>\n",
       "      <td>FROM_INSIDE_TO_OUTSIDE</td>\n",
       "      <td>1551367502416</td>\n",
       "      <td>-83</td>\n",
       "      <td>-91</td>\n",
       "    </tr>\n",
       "    <tr>\n",
       "      <th>3</th>\n",
       "      <td>1E448462718ADB1DD73E9553A7B268B7</td>\n",
       "      <td>FF:FF:C2:1D:9B:54</td>\n",
       "      <td>OUTSIDE</td>\n",
       "      <td>FROM_INSIDE_TO_OUTSIDE</td>\n",
       "      <td>1551367504813</td>\n",
       "      <td>-80</td>\n",
       "      <td>-91</td>\n",
       "    </tr>\n",
       "    <tr>\n",
       "      <th>4</th>\n",
       "      <td>0D4BAE97FE52DBAF3E596C72CC45C78F</td>\n",
       "      <td>FF:FF:C2:1D:9B:54</td>\n",
       "      <td>OUTSIDE</td>\n",
       "      <td>FROM_INSIDE_TO_OUTSIDE</td>\n",
       "      <td>1551367504813</td>\n",
       "      <td>-80</td>\n",
       "      <td>-91</td>\n",
       "    </tr>\n",
       "  </tbody>\n",
       "</table>\n",
       "</div>"
      ],
      "text/plain": [
       "                                _id               name locationStatus  \\\n",
       "0  4744423E612A1ED103904DB4F5987BA6  FF:FF:C2:1D:9B:54        OUTSIDE   \n",
       "1  C245BE3DABC6B3B534FD3D0E660049B2  FF:FF:C2:1D:9B:54        OUTSIDE   \n",
       "2  854BB66FF73F63F0FB15149B80434D80  FF:FF:C2:1D:9B:54        OUTSIDE   \n",
       "3  1E448462718ADB1DD73E9553A7B268B7  FF:FF:C2:1D:9B:54        OUTSIDE   \n",
       "4  0D4BAE97FE52DBAF3E596C72CC45C78F  FF:FF:C2:1D:9B:54        OUTSIDE   \n",
       "\n",
       "                direction      timestamp  rssiOne  rssiTwo  \n",
       "0  FROM_INSIDE_TO_OUTSIDE  1551367500637      -79      -90  \n",
       "1  FROM_INSIDE_TO_OUTSIDE  1551367501323      -81      -90  \n",
       "2  FROM_INSIDE_TO_OUTSIDE  1551367502416      -83      -91  \n",
       "3  FROM_INSIDE_TO_OUTSIDE  1551367504813      -80      -91  \n",
       "4  FROM_INSIDE_TO_OUTSIDE  1551367504813      -80      -91  "
      ]
     },
     "metadata": {},
     "output_type": "display_data"
    },
    {
     "data": {
      "text/plain": [
       "FROM_INSIDE_TO_OUTSIDE    4540\n",
       "FROM_OUTSIDE_TO_INSIDE    4178\n",
       "UNKNOWN                   1266\n",
       "Name: direction, dtype: int64"
      ]
     },
     "metadata": {},
     "output_type": "display_data"
    },
    {
     "data": {
      "text/plain": [
       "0    4540\n",
       "1    4178\n",
       "Name: direction, dtype: int64"
      ]
     },
     "metadata": {},
     "output_type": "display_data"
    }
   ],
   "source": [
    "import pandas as pd\n",
    "raw_dataset = pd.read_csv(\"FinalProject1_dataset.csv\")\n",
    "show_df(raw_dataset)\n",
    "display(raw_dataset[\"direction\"].value_counts())\n",
    "\n",
    "raw_dataset = raw_dataset[raw_dataset.direction != 'UNKNOWN']\n",
    "#raw_dataset.direction[\"FROM_INSIDE_TO_OUTSIDE\"] = 0\n",
    "#raw_dataset.direction[\"FROM_OUTSIDE_TO_INSIDE\"] = 1\n",
    "raw_dataset = raw_dataset.replace(\"FROM_INSIDE_TO_OUTSIDE\", 0)\n",
    "raw_dataset = raw_dataset.replace(\"FROM_OUTSIDE_TO_INSIDE\", 1)\n",
    "display(raw_dataset[\"direction\"].value_counts())"
   ]
  },
  {
   "cell_type": "code",
   "execution_count": 3,
   "metadata": {},
   "outputs": [
    {
     "data": {
      "text/plain": [
       "(8718, 5)"
      ]
     },
     "metadata": {},
     "output_type": "display_data"
    },
    {
     "data": {
      "text/html": [
       "<div>\n",
       "<style scoped>\n",
       "    .dataframe tbody tr th:only-of-type {\n",
       "        vertical-align: middle;\n",
       "    }\n",
       "\n",
       "    .dataframe tbody tr th {\n",
       "        vertical-align: top;\n",
       "    }\n",
       "\n",
       "    .dataframe thead th {\n",
       "        text-align: right;\n",
       "    }\n",
       "</style>\n",
       "<table border=\"1\" class=\"dataframe\">\n",
       "  <thead>\n",
       "    <tr style=\"text-align: right;\">\n",
       "      <th></th>\n",
       "      <th>name</th>\n",
       "      <th>locationStatus</th>\n",
       "      <th>direction</th>\n",
       "      <th>rssiOne</th>\n",
       "      <th>rssiTwo</th>\n",
       "    </tr>\n",
       "  </thead>\n",
       "  <tbody>\n",
       "    <tr>\n",
       "      <th>0</th>\n",
       "      <td>FF:FF:C2:1D:9B:54</td>\n",
       "      <td>OUTSIDE</td>\n",
       "      <td>0</td>\n",
       "      <td>-79</td>\n",
       "      <td>-90</td>\n",
       "    </tr>\n",
       "    <tr>\n",
       "      <th>1</th>\n",
       "      <td>FF:FF:C2:1D:9B:54</td>\n",
       "      <td>OUTSIDE</td>\n",
       "      <td>0</td>\n",
       "      <td>-81</td>\n",
       "      <td>-90</td>\n",
       "    </tr>\n",
       "    <tr>\n",
       "      <th>2</th>\n",
       "      <td>FF:FF:C2:1D:9B:54</td>\n",
       "      <td>OUTSIDE</td>\n",
       "      <td>0</td>\n",
       "      <td>-83</td>\n",
       "      <td>-91</td>\n",
       "    </tr>\n",
       "    <tr>\n",
       "      <th>3</th>\n",
       "      <td>FF:FF:C2:1D:9B:54</td>\n",
       "      <td>OUTSIDE</td>\n",
       "      <td>0</td>\n",
       "      <td>-80</td>\n",
       "      <td>-91</td>\n",
       "    </tr>\n",
       "    <tr>\n",
       "      <th>4</th>\n",
       "      <td>FF:FF:C2:1D:9B:54</td>\n",
       "      <td>OUTSIDE</td>\n",
       "      <td>0</td>\n",
       "      <td>-80</td>\n",
       "      <td>-91</td>\n",
       "    </tr>\n",
       "  </tbody>\n",
       "</table>\n",
       "</div>"
      ],
      "text/plain": [
       "                name locationStatus  direction  rssiOne  rssiTwo\n",
       "0  FF:FF:C2:1D:9B:54        OUTSIDE          0      -79      -90\n",
       "1  FF:FF:C2:1D:9B:54        OUTSIDE          0      -81      -90\n",
       "2  FF:FF:C2:1D:9B:54        OUTSIDE          0      -83      -91\n",
       "3  FF:FF:C2:1D:9B:54        OUTSIDE          0      -80      -91\n",
       "4  FF:FF:C2:1D:9B:54        OUTSIDE          0      -80      -91"
      ]
     },
     "metadata": {},
     "output_type": "display_data"
    }
   ],
   "source": [
    "clean_dataset = raw_dataset.drop([\"timestamp\", \"_id\"], axis=1)\n",
    "show_df(clean_dataset)"
   ]
  },
  {
   "cell_type": "code",
   "execution_count": 4,
   "metadata": {},
   "outputs": [
    {
     "data": {
      "text/html": [
       "<div>\n",
       "<style scoped>\n",
       "    .dataframe tbody tr th:only-of-type {\n",
       "        vertical-align: middle;\n",
       "    }\n",
       "\n",
       "    .dataframe tbody tr th {\n",
       "        vertical-align: top;\n",
       "    }\n",
       "\n",
       "    .dataframe thead th {\n",
       "        text-align: right;\n",
       "    }\n",
       "</style>\n",
       "<table border=\"1\" class=\"dataframe\">\n",
       "  <thead>\n",
       "    <tr style=\"text-align: right;\">\n",
       "      <th></th>\n",
       "      <th>direction</th>\n",
       "      <th>rssiOne</th>\n",
       "      <th>rssiTwo</th>\n",
       "    </tr>\n",
       "  </thead>\n",
       "  <tbody>\n",
       "    <tr>\n",
       "      <th>2294</th>\n",
       "      <td>0</td>\n",
       "      <td>-65</td>\n",
       "      <td>-84</td>\n",
       "    </tr>\n",
       "    <tr>\n",
       "      <th>662</th>\n",
       "      <td>0</td>\n",
       "      <td>-88</td>\n",
       "      <td>-93</td>\n",
       "    </tr>\n",
       "    <tr>\n",
       "      <th>2521</th>\n",
       "      <td>0</td>\n",
       "      <td>-85</td>\n",
       "      <td>-93</td>\n",
       "    </tr>\n",
       "    <tr>\n",
       "      <th>6288</th>\n",
       "      <td>0</td>\n",
       "      <td>-78</td>\n",
       "      <td>-80</td>\n",
       "    </tr>\n",
       "    <tr>\n",
       "      <th>9549</th>\n",
       "      <td>1</td>\n",
       "      <td>-84</td>\n",
       "      <td>-78</td>\n",
       "    </tr>\n",
       "  </tbody>\n",
       "</table>\n",
       "</div>"
      ],
      "text/plain": [
       "      direction  rssiOne  rssiTwo\n",
       "2294          0      -65      -84\n",
       "662           0      -88      -93\n",
       "2521          0      -85      -93\n",
       "6288          0      -78      -80\n",
       "9549          1      -84      -78"
      ]
     },
     "execution_count": 4,
     "metadata": {},
     "output_type": "execute_result"
    }
   ],
   "source": [
    "import numpy as np\n",
    "from sklearn.model_selection import train_test_split\n",
    "\n",
    "x = clean_dataset.drop([\"locationStatus\", \"name\"], axis=1)\n",
    "y = clean_dataset[\"locationStatus\"]\n",
    "\n",
    "X_train, X_test, y_train, y_test = train_test_split(x,y, test_size=0.3, stratify=y)\n",
    "X_train.head()"
   ]
  },
  {
   "cell_type": "code",
   "execution_count": 5,
   "metadata": {},
   "outputs": [
    {
     "data": {
      "text/plain": [
       "[<matplotlib.lines.Line2D at 0x1add946a978>]"
      ]
     },
     "execution_count": 5,
     "metadata": {},
     "output_type": "execute_result"
    }
   ],
   "source": [
    "import matplotlib.pyplot as plt\n",
    "\n",
    "raw_dataset[\"rssiOne\"]\n",
    "plt.plot(raw_dataset[\"timestamp\"], raw_dataset[\"rssiOne\"])"
   ]
  },
  {
   "cell_type": "markdown",
   "metadata": {},
   "source": [
    "# OneR"
   ]
  },
  {
   "cell_type": "code",
   "execution_count": 6,
   "metadata": {},
   "outputs": [],
   "source": [
    "import pandas as pd\n",
    "class OneR(object):\n",
    "    \n",
    "    def __init__(self):\n",
    "        self.ideal_variable = None\n",
    "        self.max_accuracy = 0\n",
    "    \n",
    "    def fit(self, X, y):\n",
    "        response = list()\n",
    "        result = dict()\n",
    "        \n",
    "        dfx = pd.DataFrame(X)\n",
    "        \n",
    "        for i in dfx:\n",
    "            result[str(i)] = dict()\n",
    "            options_values = set(dfx[i])\n",
    "            join_data = pd.DataFrame({\"variable\":dfx[i], \"label\":y})\n",
    "            cross_table = pd.crosstab(join_data.variable, join_data.label)\n",
    "            summary = cross_table.idxmax(axis=1)\n",
    "            result[str(i)] = dict(summary)\n",
    "            \n",
    "            counts = 0\n",
    "            \n",
    "            for idx, row in join_data.iterrows():\n",
    "                if row['label'] == result[str(i)][row['variable']]:\n",
    "                    counts += 1\n",
    "\n",
    "            accuracy = (counts/len(y))\n",
    "            \n",
    "            if accuracy > self.max_accuracy:\n",
    "                self.max_accuracy = accuracy\n",
    "                self.ideal_variable = i\n",
    "\n",
    "            result_feature = {\"variable\": str(i), \"accuracy\":accuracy, \"rules\": result[str(i)] }  \n",
    "            response.append(result_feature)\n",
    "            \n",
    "        return response\n",
    "\n",
    "    \n",
    "    def predict(self, X=None):\n",
    "        self_ideal_variable = self.ideal_variable + 1\n",
    "        \n",
    "    def __repr__(self):\n",
    "        if self.ideal_variable != None:\n",
    "            txt = \"La mejor variable para tus datos es: \" + str(self.ideal_variable)\n",
    "        else:\n",
    "            txt = \"La mejor variable aun no se ha encontrado, intente ejecutar el metodo fit previamente\"\n",
    "        return txt"
   ]
  },
  {
   "cell_type": "code",
   "execution_count": 7,
   "metadata": {},
   "outputs": [
    {
     "name": "stdout",
     "output_type": "stream",
     "text": [
      "[{'variable': 'direction', 'accuracy': 0.42991511814636385, 'rules': {0: 'OUTSIDE', 1: 'IN_VESTIBULE'}}, {'variable': 'rssiOne', 'accuracy': 0.5345262674925442, 'rules': {-105: 'INSIDE', -103: 'INSIDE', -102: 'IN_VESTIBULE', -101: 'INSIDE', -100: 'INSIDE', -99: 'INSIDE', -98: 'INSIDE', -97: 'INSIDE', -96: 'INSIDE', -95: 'INSIDE', -94: 'INSIDE', -93: 'INSIDE', -92: 'INSIDE', -91: 'INSIDE', -90: 'INSIDE', -89: 'INSIDE', -88: 'INSIDE', -87: 'INSIDE', -86: 'INSIDE', -85: 'OUTSIDE', -84: 'OUTSIDE', -83: 'IN_VESTIBULE', -82: 'OUTSIDE', -81: 'IN_VESTIBULE', -80: 'IN_VESTIBULE', -79: 'IN_VESTIBULE', -78: 'IN_VESTIBULE', -77: 'IN_VESTIBULE', -76: 'IN_VESTIBULE', -75: 'IN_VESTIBULE', -74: 'IN_VESTIBULE', -73: 'IN_VESTIBULE', -72: 'IN_VESTIBULE', -71: 'IN_VESTIBULE', -70: 'IN_VESTIBULE', -69: 'IN_VESTIBULE', -68: 'OUTSIDE', -67: 'IN_VESTIBULE', -66: 'OUTSIDE', -65: 'IN_VESTIBULE', -64: 'OUTSIDE', -63: 'IN_VESTIBULE', -62: 'IN_VESTIBULE', -61: 'IN_VESTIBULE', -57: 'IN_VESTIBULE'}}, {'variable': 'rssiTwo', 'accuracy': 0.6041523285157147, 'rules': {-104: 'OUTSIDE', -103: 'OUTSIDE', -102: 'OUTSIDE', -101: 'IN_VESTIBULE', -100: 'OUTSIDE', -99: 'OUTSIDE', -98: 'OUTSIDE', -97: 'OUTSIDE', -96: 'OUTSIDE', -95: 'OUTSIDE', -94: 'OUTSIDE', -93: 'OUTSIDE', -92: 'OUTSIDE', -91: 'OUTSIDE', -90: 'OUTSIDE', -89: 'OUTSIDE', -88: 'OUTSIDE', -87: 'OUTSIDE', -86: 'OUTSIDE', -85: 'OUTSIDE', -84: 'IN_VESTIBULE', -83: 'INSIDE', -82: 'IN_VESTIBULE', -81: 'IN_VESTIBULE', -80: 'IN_VESTIBULE', -79: 'IN_VESTIBULE', -78: 'IN_VESTIBULE', -77: 'IN_VESTIBULE', -76: 'IN_VESTIBULE', -75: 'IN_VESTIBULE', -74: 'IN_VESTIBULE', -73: 'IN_VESTIBULE', -72: 'IN_VESTIBULE', -71: 'IN_VESTIBULE', -70: 'IN_VESTIBULE', -69: 'IN_VESTIBULE', -68: 'IN_VESTIBULE', -67: 'IN_VESTIBULE', -66: 'IN_VESTIBULE', -65: 'IN_VESTIBULE', -64: 'IN_VESTIBULE', -63: 'IN_VESTIBULE', -62: 'IN_VESTIBULE', -61: 'IN_VESTIBULE', -60: 'IN_VESTIBULE', -59: 'IN_VESTIBULE'}}]\n",
      "La mejor variable para tus datos es: rssiTwo\n"
     ]
    }
   ],
   "source": [
    "clf = OneR()\n",
    "results = clf.fit(x, y)\n",
    "\n",
    "print(results)\n",
    "print(clf)"
   ]
  },
  {
   "cell_type": "markdown",
   "metadata": {},
   "source": [
    "# Naive Bayes"
   ]
  },
  {
   "cell_type": "code",
   "execution_count": 8,
   "metadata": {},
   "outputs": [
    {
     "name": "stdout",
     "output_type": "stream",
     "text": [
      "[[428 138 169]\n",
      " [ 97 730 146]\n",
      " [132 139 637]]\n",
      "              precision    recall  f1-score   support\n",
      "\n",
      "      INSIDE       0.65      0.58      0.61       735\n",
      "IN_VESTIBULE       0.72      0.75      0.74       973\n",
      "     OUTSIDE       0.67      0.70      0.68       908\n",
      "\n",
      "   micro avg       0.69      0.69      0.69      2616\n",
      "   macro avg       0.68      0.68      0.68      2616\n",
      "weighted avg       0.68      0.69      0.68      2616\n",
      "\n",
      "0.6861620795107034\n"
     ]
    }
   ],
   "source": [
    "from sklearn.naive_bayes import GaussianNB\n",
    "from sklearn.metrics import confusion_matrix\n",
    "from sklearn.metrics import f1_score\n",
    "from sklearn.metrics import classification_report\n",
    "from sklearn.metrics import accuracy_score\n",
    "\n",
    "gnb = GaussianNB()\n",
    "y_pred = gnb.fit(X_train, y_train).predict(X_test)\n",
    "\n",
    "print(confusion_matrix(y_test, y_pred))\n",
    "print(classification_report(y_test, y_pred))\n",
    "print(accuracy_score(y_test, y_pred))"
   ]
  },
  {
   "cell_type": "markdown",
   "metadata": {},
   "source": [
    "# Decision Tree (CART)"
   ]
  },
  {
   "cell_type": "code",
   "execution_count": 9,
   "metadata": {},
   "outputs": [
    {
     "name": "stdout",
     "output_type": "stream",
     "text": [
      "[[490 153  92]\n",
      " [165 687 121]\n",
      " [102 143 663]]\n",
      "              precision    recall  f1-score   support\n",
      "\n",
      "      INSIDE       0.65      0.67      0.66       735\n",
      "IN_VESTIBULE       0.70      0.71      0.70       973\n",
      "     OUTSIDE       0.76      0.73      0.74       908\n",
      "\n",
      "   micro avg       0.70      0.70      0.70      2616\n",
      "   macro avg       0.70      0.70      0.70      2616\n",
      "weighted avg       0.70      0.70      0.70      2616\n",
      "\n",
      "0.7033639143730887\n"
     ]
    }
   ],
   "source": [
    "from sklearn import tree\n",
    "\n",
    "clf = tree.DecisionTreeClassifier()\n",
    "y_pred = clf.fit(X_train, y_train).predict(X_test)\n",
    "print(confusion_matrix(y_test, y_pred))\n",
    "print(classification_report(y_test, y_pred))\n",
    "print(accuracy_score(y_test, y_pred))"
   ]
  },
  {
   "cell_type": "markdown",
   "metadata": {},
   "source": [
    "# SVM"
   ]
  },
  {
   "cell_type": "code",
   "execution_count": 10,
   "metadata": {},
   "outputs": [
    {
     "name": "stderr",
     "output_type": "stream",
     "text": [
      "C:\\anaconda\\lib\\site-packages\\sklearn\\svm\\base.py:196: FutureWarning: The default value of gamma will change from 'auto' to 'scale' in version 0.22 to account better for unscaled features. Set gamma explicitly to 'auto' or 'scale' to avoid this warning.\n",
      "  \"avoid this warning.\", FutureWarning)\n"
     ]
    },
    {
     "name": "stdout",
     "output_type": "stream",
     "text": [
      "[[480 149 106]\n",
      " [101 728 144]\n",
      " [ 79  99 730]]\n",
      "              precision    recall  f1-score   support\n",
      "\n",
      "      INSIDE       0.73      0.65      0.69       735\n",
      "IN_VESTIBULE       0.75      0.75      0.75       973\n",
      "     OUTSIDE       0.74      0.80      0.77       908\n",
      "\n",
      "   micro avg       0.74      0.74      0.74      2616\n",
      "   macro avg       0.74      0.74      0.74      2616\n",
      "weighted avg       0.74      0.74      0.74      2616\n",
      "\n",
      "0.7408256880733946\n"
     ]
    }
   ],
   "source": [
    "from sklearn.svm import SVC\n",
    "# fit a SVM model to the data\n",
    "svm = SVC()\n",
    "y_pred = svm.fit(X_train, y_train).predict(X_test)\n",
    "\n",
    "# summarize the fit of the model\n",
    "print(confusion_matrix(y_test, y_pred))\n",
    "print(classification_report(y_test, y_pred))\n",
    "print(accuracy_score(y_test, y_pred))"
   ]
  },
  {
   "cell_type": "markdown",
   "metadata": {},
   "source": [
    "# KNN"
   ]
  },
  {
   "cell_type": "code",
   "execution_count": 11,
   "metadata": {},
   "outputs": [
    {
     "name": "stdout",
     "output_type": "stream",
     "text": [
      "[[480 173  82]\n",
      " [149 682 142]\n",
      " [120 121 667]]\n",
      "              precision    recall  f1-score   support\n",
      "\n",
      "      INSIDE       0.64      0.65      0.65       735\n",
      "IN_VESTIBULE       0.70      0.70      0.70       973\n",
      "     OUTSIDE       0.75      0.73      0.74       908\n",
      "\n",
      "   micro avg       0.70      0.70      0.70      2616\n",
      "   macro avg       0.70      0.70      0.70      2616\n",
      "weighted avg       0.70      0.70      0.70      2616\n",
      "\n",
      "0.6991590214067278\n"
     ]
    }
   ],
   "source": [
    "from sklearn.neighbors import KNeighborsClassifier\n",
    "# fit a k-nearest neighbor model to the data\n",
    "knn = KNeighborsClassifier()\n",
    "y_pred = knn.fit(X_train, y_train).predict(X_test)\n",
    "\n",
    "# summarize the fit of the model\n",
    "print(confusion_matrix(y_test, y_pred))\n",
    "print(classification_report(y_test, y_pred))\n",
    "print(accuracy_score(y_test, y_pred))"
   ]
  },
  {
   "cell_type": "markdown",
   "metadata": {},
   "source": [
    "# Применяем метод Стандартного отклонения"
   ]
  },
  {
   "cell_type": "code",
   "execution_count": 12,
   "metadata": {},
   "outputs": [
    {
     "name": "stderr",
     "output_type": "stream",
     "text": [
      "C:\\anaconda\\lib\\site-packages\\sklearn\\preprocessing\\data.py:625: DataConversionWarning: Data with input dtype int64 were all converted to float64 by StandardScaler.\n",
      "  return self.partial_fit(X, y)\n",
      "C:\\anaconda\\lib\\site-packages\\ipykernel_launcher.py:5: DataConversionWarning: Data with input dtype int64 were all converted to float64 by StandardScaler.\n",
      "  \"\"\"\n",
      "C:\\anaconda\\lib\\site-packages\\ipykernel_launcher.py:6: DataConversionWarning: Data with input dtype int64 were all converted to float64 by StandardScaler.\n",
      "  \n"
     ]
    }
   ],
   "source": [
    "from sklearn.preprocessing import StandardScaler\n",
    "\n",
    "scaler = StandardScaler()\n",
    "scaler.fit(X_train, y_train)\n",
    "X_train_real_scaled = scaler.transform(X_train)\n",
    "X_test_real_scaled = scaler.transform(X_test)"
   ]
  },
  {
   "cell_type": "markdown",
   "metadata": {},
   "source": [
    "# Алгоритм Наивного Байеса после Стандартного отклонения"
   ]
  },
  {
   "cell_type": "code",
   "execution_count": 13,
   "metadata": {},
   "outputs": [
    {
     "name": "stdout",
     "output_type": "stream",
     "text": [
      "[[428 138 169]\n",
      " [ 97 730 146]\n",
      " [132 139 637]]\n",
      "              precision    recall  f1-score   support\n",
      "\n",
      "      INSIDE       0.65      0.58      0.61       735\n",
      "IN_VESTIBULE       0.72      0.75      0.74       973\n",
      "     OUTSIDE       0.67      0.70      0.68       908\n",
      "\n",
      "   micro avg       0.69      0.69      0.69      2616\n",
      "   macro avg       0.68      0.68      0.68      2616\n",
      "weighted avg       0.68      0.69      0.68      2616\n",
      "\n",
      "0.6861620795107034\n"
     ]
    }
   ],
   "source": [
    "gnb = GaussianNB()\n",
    "y_pred = gnb.fit(X_train_real_scaled, y_train).predict(X_test_real_scaled)\n",
    "\n",
    "# summarize the fit of the model\n",
    "print(confusion_matrix(y_test, y_pred))\n",
    "print(classification_report(y_test, y_pred))\n",
    "print(accuracy_score(y_test, y_pred))"
   ]
  },
  {
   "cell_type": "markdown",
   "metadata": {},
   "source": [
    "# Алгоритм Деревьев решений после Стандартного отклонения"
   ]
  },
  {
   "cell_type": "code",
   "execution_count": 14,
   "metadata": {},
   "outputs": [
    {
     "name": "stdout",
     "output_type": "stream",
     "text": [
      "[[489 153  93]\n",
      " [167 685 121]\n",
      " [102 143 663]]\n",
      "              precision    recall  f1-score   support\n",
      "\n",
      "      INSIDE       0.65      0.67      0.66       735\n",
      "IN_VESTIBULE       0.70      0.70      0.70       973\n",
      "     OUTSIDE       0.76      0.73      0.74       908\n",
      "\n",
      "   micro avg       0.70      0.70      0.70      2616\n",
      "   macro avg       0.70      0.70      0.70      2616\n",
      "weighted avg       0.70      0.70      0.70      2616\n",
      "\n",
      "0.702217125382263\n"
     ]
    }
   ],
   "source": [
    "clf = tree.DecisionTreeClassifier()\n",
    "y_pred = clf.fit(X_train_real_scaled, y_train).predict(X_test_real_scaled)\n",
    "\n",
    "# summarize the fit of the model\n",
    "print(confusion_matrix(y_test, y_pred))\n",
    "print(classification_report(y_test, y_pred))\n",
    "print(accuracy_score(y_test, y_pred))"
   ]
  },
  {
   "cell_type": "markdown",
   "metadata": {},
   "source": [
    "# Алгоритм SVM после Стандартного отклонения"
   ]
  },
  {
   "cell_type": "code",
   "execution_count": 15,
   "metadata": {},
   "outputs": [
    {
     "name": "stdout",
     "output_type": "stream",
     "text": [
      "[[508 154  73]\n",
      " [105 715 153]\n",
      " [118  83 707]]\n",
      "              precision    recall  f1-score   support\n",
      "\n",
      "      INSIDE       0.69      0.69      0.69       735\n",
      "IN_VESTIBULE       0.75      0.73      0.74       973\n",
      "     OUTSIDE       0.76      0.78      0.77       908\n",
      "\n",
      "   micro avg       0.74      0.74      0.74      2616\n",
      "   macro avg       0.73      0.73      0.73      2616\n",
      "weighted avg       0.74      0.74      0.74      2616\n",
      "\n",
      "0.7377675840978594\n"
     ]
    }
   ],
   "source": [
    "svm = SVC()\n",
    "y_pred = svm.fit(X_train_real_scaled, y_train).predict(X_test_real_scaled)\n",
    "\n",
    "# summarize the fit of the model\n",
    "print(confusion_matrix(y_test, y_pred))\n",
    "print(classification_report(y_test, y_pred))\n",
    "print(accuracy_score(y_test, y_pred))"
   ]
  },
  {
   "cell_type": "markdown",
   "metadata": {},
   "source": [
    "# Алгоритм KNN после Стандартного отклонения# "
   ]
  },
  {
   "cell_type": "code",
   "execution_count": 16,
   "metadata": {},
   "outputs": [
    {
     "name": "stdout",
     "output_type": "stream",
     "text": [
      "[[492 161  82]\n",
      " [135 696 142]\n",
      " [124 120 664]]\n",
      "              precision    recall  f1-score   support\n",
      "\n",
      "      INSIDE       0.66      0.67      0.66       735\n",
      "IN_VESTIBULE       0.71      0.72      0.71       973\n",
      "     OUTSIDE       0.75      0.73      0.74       908\n",
      "\n",
      "   micro avg       0.71      0.71      0.71      2616\n",
      "   macro avg       0.71      0.71      0.71      2616\n",
      "weighted avg       0.71      0.71      0.71      2616\n",
      "\n",
      "0.7079510703363915\n"
     ]
    }
   ],
   "source": [
    "knn = KNeighborsClassifier()\n",
    "y_pred = knn.fit(X_train_real_scaled, y_train).predict(X_test_real_scaled)\n",
    "\n",
    "# summarize the fit of the model\n",
    "print(confusion_matrix(y_test, y_pred))\n",
    "print(classification_report(y_test, y_pred))\n",
    "print(accuracy_score(y_test, y_pred))"
   ]
  },
  {
   "cell_type": "markdown",
   "metadata": {},
   "source": [
    "# Пробуем стандартизировать данные используя preprocessing.scale"
   ]
  },
  {
   "cell_type": "code",
   "execution_count": 17,
   "metadata": {},
   "outputs": [
    {
     "name": "stderr",
     "output_type": "stream",
     "text": [
      "C:\\anaconda\\lib\\site-packages\\ipykernel_launcher.py:2: DataConversionWarning: Data with input dtype int64 were all converted to float64 by the scale function.\n",
      "  \n",
      "C:\\anaconda\\lib\\site-packages\\ipykernel_launcher.py:3: DataConversionWarning: Data with input dtype int64 were all converted to float64 by the scale function.\n",
      "  This is separate from the ipykernel package so we can avoid doing imports until\n"
     ]
    }
   ],
   "source": [
    "from sklearn import preprocessing\n",
    "X_train_scaled = preprocessing.scale(X_train)\n",
    "X_test_scaled = preprocessing.scale(X_test)"
   ]
  },
  {
   "cell_type": "markdown",
   "metadata": {},
   "source": [
    "# Алгоритм Наивного Байеса после preprocessing.scale"
   ]
  },
  {
   "cell_type": "code",
   "execution_count": 18,
   "metadata": {},
   "outputs": [
    {
     "name": "stdout",
     "output_type": "stream",
     "text": [
      "[[440 127 168]\n",
      " [102 722 149]\n",
      " [130 131 647]]\n",
      "              precision    recall  f1-score   support\n",
      "\n",
      "      INSIDE       0.65      0.60      0.63       735\n",
      "IN_VESTIBULE       0.74      0.74      0.74       973\n",
      "     OUTSIDE       0.67      0.71      0.69       908\n",
      "\n",
      "   micro avg       0.69      0.69      0.69      2616\n",
      "   macro avg       0.69      0.68      0.69      2616\n",
      "weighted avg       0.69      0.69      0.69      2616\n",
      "\n",
      "0.6915137614678899\n"
     ]
    }
   ],
   "source": [
    "gnb = GaussianNB()\n",
    "y_pred = gnb.fit(X_train_scaled, y_train).predict(X_test_scaled)\n",
    "\n",
    "# summarize the fit of the model\n",
    "print(confusion_matrix(y_test, y_pred))\n",
    "print(classification_report(y_test, y_pred))\n",
    "print(accuracy_score(y_test, y_pred))"
   ]
  },
  {
   "cell_type": "markdown",
   "metadata": {},
   "source": [
    "# Алгоритм Деревьев решений после preprocessing.scale"
   ]
  },
  {
   "cell_type": "code",
   "execution_count": 19,
   "metadata": {},
   "outputs": [
    {
     "name": "stdout",
     "output_type": "stream",
     "text": [
      "[[498 144  93]\n",
      " [165 685 123]\n",
      " [ 98 144 666]]\n",
      "              precision    recall  f1-score   support\n",
      "\n",
      "      INSIDE       0.65      0.68      0.67       735\n",
      "IN_VESTIBULE       0.70      0.70      0.70       973\n",
      "     OUTSIDE       0.76      0.73      0.74       908\n",
      "\n",
      "   micro avg       0.71      0.71      0.71      2616\n",
      "   macro avg       0.70      0.71      0.70      2616\n",
      "weighted avg       0.71      0.71      0.71      2616\n",
      "\n",
      "0.7068042813455657\n"
     ]
    }
   ],
   "source": [
    "clf = tree.DecisionTreeClassifier()\n",
    "y_pred = clf.fit(X_train_scaled, y_train).predict(X_test_scaled)\n",
    "\n",
    "# summarize the fit of the model\n",
    "print(confusion_matrix(y_test, y_pred))\n",
    "print(classification_report(y_test, y_pred))\n",
    "print(accuracy_score(y_test, y_pred))"
   ]
  },
  {
   "cell_type": "markdown",
   "metadata": {},
   "source": [
    "# Алгоритм SVM после preprocessing.scale"
   ]
  },
  {
   "cell_type": "code",
   "execution_count": 20,
   "metadata": {},
   "outputs": [
    {
     "name": "stdout",
     "output_type": "stream",
     "text": [
      "[[515 149  71]\n",
      " [111 703 159]\n",
      " [122  80 706]]\n",
      "              precision    recall  f1-score   support\n",
      "\n",
      "      INSIDE       0.69      0.70      0.69       735\n",
      "IN_VESTIBULE       0.75      0.72      0.74       973\n",
      "     OUTSIDE       0.75      0.78      0.77       908\n",
      "\n",
      "   micro avg       0.74      0.74      0.74      2616\n",
      "   macro avg       0.73      0.73      0.73      2616\n",
      "weighted avg       0.74      0.74      0.74      2616\n",
      "\n",
      "0.735474006116208\n"
     ]
    }
   ],
   "source": [
    "svm = SVC()\n",
    "y_pred = svm.fit(X_train_scaled, y_train).predict(X_test_scaled)\n",
    "\n",
    "# summarize the fit of the model\n",
    "print(confusion_matrix(y_test, y_pred))\n",
    "print(classification_report(y_test, y_pred))\n",
    "print(accuracy_score(y_test, y_pred))"
   ]
  },
  {
   "cell_type": "markdown",
   "metadata": {},
   "source": [
    "# Алгоритм KNN после preprocessing.scale"
   ]
  },
  {
   "cell_type": "code",
   "execution_count": 21,
   "metadata": {},
   "outputs": [
    {
     "name": "stdout",
     "output_type": "stream",
     "text": [
      "[[501 151  83]\n",
      " [142 693 138]\n",
      " [117 126 665]]\n",
      "              precision    recall  f1-score   support\n",
      "\n",
      "      INSIDE       0.66      0.68      0.67       735\n",
      "IN_VESTIBULE       0.71      0.71      0.71       973\n",
      "     OUTSIDE       0.75      0.73      0.74       908\n",
      "\n",
      "   micro avg       0.71      0.71      0.71      2616\n",
      "   macro avg       0.71      0.71      0.71      2616\n",
      "weighted avg       0.71      0.71      0.71      2616\n",
      "\n",
      "0.7106269113149847\n"
     ]
    }
   ],
   "source": [
    "knn = KNeighborsClassifier()\n",
    "y_pred = knn.fit(X_train_scaled, y_train).predict(X_test_scaled)\n",
    "\n",
    "# summarize the fit of the model\n",
    "print(confusion_matrix(y_test, y_pred))\n",
    "print(classification_report(y_test, y_pred))\n",
    "print(accuracy_score(y_test, y_pred))"
   ]
  },
  {
   "cell_type": "code",
   "execution_count": 115,
   "metadata": {},
   "outputs": [
    {
     "data": {
      "text/html": [
       "<div>\n",
       "<style scoped>\n",
       "    .dataframe tbody tr th:only-of-type {\n",
       "        vertical-align: middle;\n",
       "    }\n",
       "\n",
       "    .dataframe tbody tr th {\n",
       "        vertical-align: top;\n",
       "    }\n",
       "\n",
       "    .dataframe thead th {\n",
       "        text-align: right;\n",
       "    }\n",
       "</style>\n",
       "<table border=\"1\" class=\"dataframe\">\n",
       "  <thead>\n",
       "    <tr style=\"text-align: right;\">\n",
       "      <th></th>\n",
       "      <th>direction</th>\n",
       "      <th>rssiOne</th>\n",
       "      <th>rssiTwo</th>\n",
       "    </tr>\n",
       "  </thead>\n",
       "  <tbody>\n",
       "    <tr>\n",
       "      <th>5358</th>\n",
       "      <td>0</td>\n",
       "      <td>-74</td>\n",
       "      <td>-80</td>\n",
       "    </tr>\n",
       "    <tr>\n",
       "      <th>425</th>\n",
       "      <td>0</td>\n",
       "      <td>-74</td>\n",
       "      <td>-84</td>\n",
       "    </tr>\n",
       "    <tr>\n",
       "      <th>5549</th>\n",
       "      <td>1</td>\n",
       "      <td>-84</td>\n",
       "      <td>-74</td>\n",
       "    </tr>\n",
       "    <tr>\n",
       "      <th>9140</th>\n",
       "      <td>0</td>\n",
       "      <td>-92</td>\n",
       "      <td>-80</td>\n",
       "    </tr>\n",
       "    <tr>\n",
       "      <th>2177</th>\n",
       "      <td>1</td>\n",
       "      <td>-74</td>\n",
       "      <td>-86</td>\n",
       "    </tr>\n",
       "  </tbody>\n",
       "</table>\n",
       "</div>"
      ],
      "text/plain": [
       "      direction  rssiOne  rssiTwo\n",
       "5358          0      -74      -80\n",
       "425           0      -74      -84\n",
       "5549          1      -84      -74\n",
       "9140          0      -92      -80\n",
       "2177          1      -74      -86"
      ]
     },
     "execution_count": 115,
     "metadata": {},
     "output_type": "execute_result"
    }
   ],
   "source": [
    "X_train.head()"
   ]
  },
  {
   "cell_type": "markdown",
   "metadata": {},
   "source": [
    "# Пробуем провести дискретизацию признаков "
   ]
  },
  {
   "cell_type": "code",
   "execution_count": 223,
   "metadata": {},
   "outputs": [
    {
     "data": {
      "text/plain": [
       "array([[ 0.,  9.,  6.],\n",
       "       [ 0.,  9.,  5.],\n",
       "       [12.,  6.,  8.],\n",
       "       ...,\n",
       "       [ 0.,  5.,  3.],\n",
       "       [ 0.,  5., 10.],\n",
       "       [ 0.,  8.,  7.]])"
      ]
     },
     "execution_count": 223,
     "metadata": {},
     "output_type": "execute_result"
    }
   ],
   "source": [
    "from sklearn.preprocessing import KBinsDiscretizer  \n",
    "est = KBinsDiscretizer(n_bins=13, encode='ordinal', strategy='uniform')\n",
    "\n",
    "# X_train['rssiOne'] = X_train.iloc[:,1].values.reshape(6102,1)\n",
    "# X_train['rssiTwo'] = X_train.iloc[:,2].values.reshape(6102,1)\n",
    "# X_test['rssiOne'] = X_test.iloc[:,1].values.reshape(2616,1)\n",
    "# X_test['rssiTwo'] = X_test.iloc[:,2].values.reshape(2616,1)\n",
    "\n",
    "# X_train['rssiOne']\n",
    "est.fit(X_train) \n",
    "est.transform(X_train)\n",
    "# X_train\n"
   ]
  },
  {
   "cell_type": "code",
   "execution_count": 224,
   "metadata": {},
   "outputs": [
    {
     "data": {
      "text/plain": [
       "array([[12.,  3.,  3.],\n",
       "       [12.,  5.,  8.],\n",
       "       [ 0.,  8.,  6.],\n",
       "       ...,\n",
       "       [12.,  8.,  4.],\n",
       "       [12.,  6.,  6.],\n",
       "       [ 0.,  7.,  5.]])"
      ]
     },
     "execution_count": 224,
     "metadata": {},
     "output_type": "execute_result"
    }
   ],
   "source": [
    "Xtst = est.transform(X_test)\n",
    "Xtst"
   ]
  },
  {
   "cell_type": "markdown",
   "metadata": {},
   "source": [
    "# Алгоритм Наивного Байеса после дискретизации признаков"
   ]
  },
  {
   "cell_type": "code",
   "execution_count": 225,
   "metadata": {},
   "outputs": [
    {
     "name": "stdout",
     "output_type": "stream",
     "text": [
      "[[441 126 168]\n",
      " [105 721 147]\n",
      " [127 115 666]]\n",
      "              precision    recall  f1-score   support\n",
      "\n",
      "      INSIDE       0.66      0.60      0.63       735\n",
      "IN_VESTIBULE       0.75      0.74      0.75       973\n",
      "     OUTSIDE       0.68      0.73      0.71       908\n",
      "\n",
      "   micro avg       0.70      0.70      0.70      2616\n",
      "   macro avg       0.69      0.69      0.69      2616\n",
      "weighted avg       0.70      0.70      0.70      2616\n",
      "\n",
      "0.6987767584097859\n"
     ]
    }
   ],
   "source": [
    "gnb = GaussianNB()\n",
    "y_pred = gnb.fit(Xtr, y_train).predict(Xtst)\n",
    "\n",
    "# summarize the fit of the model\n",
    "print(confusion_matrix(y_test, y_pred))\n",
    "print(classification_report(y_test, y_pred))\n",
    "print(accuracy_score(y_test, y_pred))"
   ]
  },
  {
   "cell_type": "markdown",
   "metadata": {},
   "source": [
    "# Алгоритм Деревьев Решений после дискретизации признаков"
   ]
  },
  {
   "cell_type": "code",
   "execution_count": 91,
   "metadata": {},
   "outputs": [
    {
     "name": "stdout",
     "output_type": "stream",
     "text": [
      "[[504 134  97]\n",
      " [109 694 170]\n",
      " [ 80  85 743]]\n",
      "              precision    recall  f1-score   support\n",
      "\n",
      "      INSIDE       0.73      0.69      0.71       735\n",
      "IN_VESTIBULE       0.76      0.71      0.74       973\n",
      "     OUTSIDE       0.74      0.82      0.77       908\n",
      "\n",
      "   micro avg       0.74      0.74      0.74      2616\n",
      "   macro avg       0.74      0.74      0.74      2616\n",
      "weighted avg       0.74      0.74      0.74      2616\n",
      "\n",
      "0.7419724770642202\n"
     ]
    }
   ],
   "source": [
    "clf = tree.DecisionTreeClassifier()\n",
    "y_pred = clf.fit(Xtr, y_train).predict(Xtst)\n",
    "\n",
    "# summarize the fit of the model\n",
    "print(confusion_matrix(y_test, y_pred))\n",
    "print(classification_report(y_test, y_pred))\n",
    "print(accuracy_score(y_test, y_pred))"
   ]
  },
  {
   "cell_type": "markdown",
   "metadata": {},
   "source": [
    "# Алгоритм SVM после дискретизации признаков"
   ]
  },
  {
   "cell_type": "code",
   "execution_count": 92,
   "metadata": {},
   "outputs": [
    {
     "name": "stderr",
     "output_type": "stream",
     "text": [
      "C:\\anaconda\\lib\\site-packages\\sklearn\\svm\\base.py:196: FutureWarning: The default value of gamma will change from 'auto' to 'scale' in version 0.22 to account better for unscaled features. Set gamma explicitly to 'auto' or 'scale' to avoid this warning.\n",
      "  \"avoid this warning.\", FutureWarning)\n"
     ]
    },
    {
     "name": "stdout",
     "output_type": "stream",
     "text": [
      "[[510 138  87]\n",
      " [100 714 159]\n",
      " [ 93  88 727]]\n",
      "              precision    recall  f1-score   support\n",
      "\n",
      "      INSIDE       0.73      0.69      0.71       735\n",
      "IN_VESTIBULE       0.76      0.73      0.75       973\n",
      "     OUTSIDE       0.75      0.80      0.77       908\n",
      "\n",
      "   micro avg       0.75      0.75      0.75      2616\n",
      "   macro avg       0.74      0.74      0.74      2616\n",
      "weighted avg       0.75      0.75      0.75      2616\n",
      "\n",
      "0.7457951070336392\n"
     ]
    }
   ],
   "source": [
    "svm = SVC()\n",
    "y_pred = svm.fit(Xtr, y_train).predict(Xtst)\n",
    "\n",
    "# summarize the fit of the model\n",
    "print(confusion_matrix(y_test, y_pred))\n",
    "print(classification_report(y_test, y_pred))\n",
    "print(accuracy_score(y_test, y_pred))"
   ]
  },
  {
   "cell_type": "markdown",
   "metadata": {},
   "source": [
    "# Алгоритм KNN после дискретизации признаков"
   ]
  },
  {
   "cell_type": "code",
   "execution_count": 93,
   "metadata": {},
   "outputs": [
    {
     "name": "stdout",
     "output_type": "stream",
     "text": [
      "[[489 154  92]\n",
      " [125 693 155]\n",
      " [ 90 117 701]]\n",
      "              precision    recall  f1-score   support\n",
      "\n",
      "      INSIDE       0.69      0.67      0.68       735\n",
      "IN_VESTIBULE       0.72      0.71      0.72       973\n",
      "     OUTSIDE       0.74      0.77      0.76       908\n",
      "\n",
      "   micro avg       0.72      0.72      0.72      2616\n",
      "   macro avg       0.72      0.72      0.72      2616\n",
      "weighted avg       0.72      0.72      0.72      2616\n",
      "\n",
      "0.7198012232415902\n"
     ]
    }
   ],
   "source": [
    "knn = KNeighborsClassifier()\n",
    "y_pred = knn.fit(Xtr, y_train).predict(Xtst)\n",
    "\n",
    "# summarize the fit of the model\n",
    "print(confusion_matrix(y_test, y_pred))\n",
    "print(classification_report(y_test, y_pred))\n",
    "print(accuracy_score(y_test, y_pred))"
   ]
  },
  {
   "cell_type": "markdown",
   "metadata": {},
   "source": [
    "# Пробуем провести бинаризацию признаков "
   ]
  },
  {
   "cell_type": "code",
   "execution_count": 98,
   "metadata": {},
   "outputs": [
    {
     "name": "stderr",
     "output_type": "stream",
     "text": [
      "MDLP.py:5: DataConversionWarning: Data with input dtype int64 were all converted to float64 by StandardScaler.\n",
      "  from sklearn.utils import (\n",
      "MDLP.py:6: DataConversionWarning: Data with input dtype int64 were all converted to float64 by StandardScaler.\n",
      "  check_array,\n"
     ]
    }
   ],
   "source": [
    "from sklearn.preprocessing import Binarizer\n",
    "\n",
    "transformer = Binarizer()\n",
    "transformer.fit(X_train, y_train)\n",
    "X_train_binarizer = scaler.transform(X_train)\n",
    "X_test_real_scaled = scaler.transform(X_test)"
   ]
  },
  {
   "cell_type": "markdown",
   "metadata": {},
   "source": [
    "# Алгоритм Наивного Байеса после бинаризации признаков"
   ]
  },
  {
   "cell_type": "code",
   "execution_count": 99,
   "metadata": {},
   "outputs": [
    {
     "name": "stdout",
     "output_type": "stream",
     "text": [
      "[[434 134 167]\n",
      " [ 91 731 151]\n",
      " [129  98 681]]\n",
      "              precision    recall  f1-score   support\n",
      "\n",
      "      INSIDE       0.66      0.59      0.62       735\n",
      "IN_VESTIBULE       0.76      0.75      0.76       973\n",
      "     OUTSIDE       0.68      0.75      0.71       908\n",
      "\n",
      "   micro avg       0.71      0.71      0.71      2616\n",
      "   macro avg       0.70      0.70      0.70      2616\n",
      "weighted avg       0.71      0.71      0.70      2616\n",
      "\n",
      "0.7056574923547401\n"
     ]
    }
   ],
   "source": [
    "gnb = GaussianNB()\n",
    "y_pred = gnb.fit(X_train_binarizer, y_train).predict(X_test_real_scaled)\n",
    "\n",
    "# summarize the fit of the model\n",
    "print(confusion_matrix(y_test, y_pred))\n",
    "print(classification_report(y_test, y_pred))\n",
    "print(accuracy_score(y_test, y_pred))"
   ]
  },
  {
   "cell_type": "markdown",
   "metadata": {},
   "source": [
    "# Алгоритм Деревьев Решений после бинаризации признаков"
   ]
  },
  {
   "cell_type": "code",
   "execution_count": 100,
   "metadata": {},
   "outputs": [
    {
     "name": "stdout",
     "output_type": "stream",
     "text": [
      "[[499 146  90]\n",
      " [155 686 132]\n",
      " [ 93 129 686]]\n",
      "              precision    recall  f1-score   support\n",
      "\n",
      "      INSIDE       0.67      0.68      0.67       735\n",
      "IN_VESTIBULE       0.71      0.71      0.71       973\n",
      "     OUTSIDE       0.76      0.76      0.76       908\n",
      "\n",
      "   micro avg       0.72      0.72      0.72      2616\n",
      "   macro avg       0.71      0.71      0.71      2616\n",
      "weighted avg       0.72      0.72      0.72      2616\n",
      "\n",
      "0.7152140672782875\n"
     ]
    }
   ],
   "source": [
    "clf = tree.DecisionTreeClassifier()\n",
    "y_pred = clf.fit(X_train_binarizer, y_train).predict(X_test_real_scaled)\n",
    "\n",
    "# summarize the fit of the model\n",
    "print(confusion_matrix(y_test, y_pred))\n",
    "print(classification_report(y_test, y_pred))\n",
    "print(accuracy_score(y_test, y_pred))"
   ]
  },
  {
   "cell_type": "markdown",
   "metadata": {},
   "source": [
    "# Алгоритм SVM после бинаризации признаков"
   ]
  },
  {
   "cell_type": "code",
   "execution_count": 102,
   "metadata": {},
   "outputs": [
    {
     "name": "stdout",
     "output_type": "stream",
     "text": [
      "[[515 149  71]\n",
      " [102 713 158]\n",
      " [117  74 717]]\n",
      "              precision    recall  f1-score   support\n",
      "\n",
      "      INSIDE       0.70      0.70      0.70       735\n",
      "IN_VESTIBULE       0.76      0.73      0.75       973\n",
      "     OUTSIDE       0.76      0.79      0.77       908\n",
      "\n",
      "   micro avg       0.74      0.74      0.74      2616\n",
      "   macro avg       0.74      0.74      0.74      2616\n",
      "weighted avg       0.74      0.74      0.74      2616\n",
      "\n",
      "0.7435015290519877\n"
     ]
    }
   ],
   "source": [
    "svm = SVC()\n",
    "y_pred = svm.fit(X_train_binarizer, y_train).predict(X_test_real_scaled)\n",
    "\n",
    "# summarize the fit of the model\n",
    "print(confusion_matrix(y_test, y_pred))\n",
    "print(classification_report(y_test, y_pred))\n",
    "print(accuracy_score(y_test, y_pred))"
   ]
  },
  {
   "cell_type": "markdown",
   "metadata": {},
   "source": [
    "# Алгоритм KNN после бинаризации признаков"
   ]
  },
  {
   "cell_type": "code",
   "execution_count": 103,
   "metadata": {},
   "outputs": [
    {
     "name": "stdout",
     "output_type": "stream",
     "text": [
      "[[489 154  92]\n",
      " [125 693 155]\n",
      " [ 90 117 701]]\n",
      "              precision    recall  f1-score   support\n",
      "\n",
      "      INSIDE       0.69      0.67      0.68       735\n",
      "IN_VESTIBULE       0.72      0.71      0.72       973\n",
      "     OUTSIDE       0.74      0.77      0.76       908\n",
      "\n",
      "   micro avg       0.72      0.72      0.72      2616\n",
      "   macro avg       0.72      0.72      0.72      2616\n",
      "weighted avg       0.72      0.72      0.72      2616\n",
      "\n",
      "0.7198012232415902\n"
     ]
    }
   ],
   "source": [
    "knn = KNeighborsClassifier()\n",
    "y_pred = knn.fit(Xtr, y_train).predict(Xtst)\n",
    "\n",
    "# summarize the fit of the model\n",
    "print(confusion_matrix(y_test, y_pred))\n",
    "print(classification_report(y_test, y_pred))\n",
    "print(accuracy_score(y_test, y_pred))"
   ]
  },
  {
   "cell_type": "markdown",
   "metadata": {},
   "source": [
    "# Проводим препроцессинг путем применения метода MinMaxScaler"
   ]
  },
  {
   "cell_type": "code",
   "execution_count": 108,
   "metadata": {},
   "outputs": [
    {
     "name": "stderr",
     "output_type": "stream",
     "text": [
      "C:\\anaconda\\lib\\site-packages\\sklearn\\preprocessing\\data.py:323: DataConversionWarning: Data with input dtype int64 were all converted to float64 by MinMaxScaler.\n",
      "  return self.partial_fit(X, y)\n",
      "MDLP.py:5: DataConversionWarning: Data with input dtype int64 were all converted to float64 by StandardScaler.\n",
      "  from sklearn.utils import (\n",
      "MDLP.py:6: DataConversionWarning: Data with input dtype int64 were all converted to float64 by StandardScaler.\n",
      "  check_array,\n"
     ]
    }
   ],
   "source": [
    "from sklearn.preprocessing import MinMaxScaler, Normalizer\n",
    "\n",
    "minMaxScaler = MinMaxScaler()\n",
    "minMaxScaler.fit(X_train, y_train)\n",
    "X_train_MMScaler = scaler.transform(X_train)\n",
    "X_test_MMScaler = scaler.transform(X_test)"
   ]
  },
  {
   "cell_type": "markdown",
   "metadata": {},
   "source": [
    "# Алгоритм Наивного Байеса после применения MinMaxScaler"
   ]
  },
  {
   "cell_type": "code",
   "execution_count": 109,
   "metadata": {},
   "outputs": [
    {
     "name": "stdout",
     "output_type": "stream",
     "text": [
      "[[434 134 167]\n",
      " [ 91 731 151]\n",
      " [129  98 681]]\n",
      "              precision    recall  f1-score   support\n",
      "\n",
      "      INSIDE       0.66      0.59      0.62       735\n",
      "IN_VESTIBULE       0.76      0.75      0.76       973\n",
      "     OUTSIDE       0.68      0.75      0.71       908\n",
      "\n",
      "   micro avg       0.71      0.71      0.71      2616\n",
      "   macro avg       0.70      0.70      0.70      2616\n",
      "weighted avg       0.71      0.71      0.70      2616\n",
      "\n",
      "0.7056574923547401\n"
     ]
    }
   ],
   "source": [
    "# gnb = GaussianNB()\n",
    "y_pred = gnb.fit(X_train_MMScaler, y_train).predict(X_test_MMScaler)\n",
    "\n",
    "# summarize the fit of the model\n",
    "print(confusion_matrix(y_test, y_pred))\n",
    "print(classification_report(y_test, y_pred))\n",
    "print(accuracy_score(y_test, y_pred))"
   ]
  },
  {
   "cell_type": "markdown",
   "metadata": {},
   "source": [
    "# Алгоритм Деревьев Решений после применения MinMaxScaler"
   ]
  },
  {
   "cell_type": "code",
   "execution_count": 110,
   "metadata": {},
   "outputs": [
    {
     "name": "stdout",
     "output_type": "stream",
     "text": [
      "[[499 146  90]\n",
      " [155 686 132]\n",
      " [ 93 129 686]]\n",
      "              precision    recall  f1-score   support\n",
      "\n",
      "      INSIDE       0.67      0.68      0.67       735\n",
      "IN_VESTIBULE       0.71      0.71      0.71       973\n",
      "     OUTSIDE       0.76      0.76      0.76       908\n",
      "\n",
      "   micro avg       0.72      0.72      0.72      2616\n",
      "   macro avg       0.71      0.71      0.71      2616\n",
      "weighted avg       0.72      0.72      0.72      2616\n",
      "\n",
      "0.7152140672782875\n"
     ]
    }
   ],
   "source": [
    "clf = tree.DecisionTreeClassifier()\n",
    "y_pred = clf.fit(X_train_MMScaler, y_train).predict(X_test_MMScaler)\n",
    "\n",
    "# summarize the fit of the model\n",
    "print(confusion_matrix(y_test, y_pred))\n",
    "print(classification_report(y_test, y_pred))\n",
    "print(accuracy_score(y_test, y_pred))"
   ]
  },
  {
   "cell_type": "markdown",
   "metadata": {},
   "source": [
    "# Алгоритм SVM после применения MinMaxScaler"
   ]
  },
  {
   "cell_type": "code",
   "execution_count": 111,
   "metadata": {},
   "outputs": [
    {
     "name": "stdout",
     "output_type": "stream",
     "text": [
      "[[515 149  71]\n",
      " [102 713 158]\n",
      " [117  74 717]]\n",
      "              precision    recall  f1-score   support\n",
      "\n",
      "      INSIDE       0.70      0.70      0.70       735\n",
      "IN_VESTIBULE       0.76      0.73      0.75       973\n",
      "     OUTSIDE       0.76      0.79      0.77       908\n",
      "\n",
      "   micro avg       0.74      0.74      0.74      2616\n",
      "   macro avg       0.74      0.74      0.74      2616\n",
      "weighted avg       0.74      0.74      0.74      2616\n",
      "\n",
      "0.7435015290519877\n"
     ]
    }
   ],
   "source": [
    "svm = SVC()\n",
    "y_pred = svm.fit(X_train_MMScaler, y_train).predict(X_test_MMScaler)\n",
    "\n",
    "# summarize the fit of the model\n",
    "print(confusion_matrix(y_test, y_pred))\n",
    "print(classification_report(y_test, y_pred))\n",
    "print(accuracy_score(y_test, y_pred))"
   ]
  },
  {
   "cell_type": "markdown",
   "metadata": {},
   "source": [
    "# Алгоритм KNN после применения MinMaxScaler"
   ]
  },
  {
   "cell_type": "code",
   "execution_count": 112,
   "metadata": {},
   "outputs": [
    {
     "name": "stdout",
     "output_type": "stream",
     "text": [
      "[[494 168  73]\n",
      " [142 690 141]\n",
      " [106 108 694]]\n",
      "              precision    recall  f1-score   support\n",
      "\n",
      "      INSIDE       0.67      0.67      0.67       735\n",
      "IN_VESTIBULE       0.71      0.71      0.71       973\n",
      "     OUTSIDE       0.76      0.76      0.76       908\n",
      "\n",
      "   micro avg       0.72      0.72      0.72      2616\n",
      "   macro avg       0.71      0.72      0.71      2616\n",
      "weighted avg       0.72      0.72      0.72      2616\n",
      "\n",
      "0.7178899082568807\n"
     ]
    }
   ],
   "source": [
    "knn = KNeighborsClassifier()\n",
    "y_pred = knn.fit(X_train_MMScaler, y_train).predict(X_test_MMScaler)\n",
    "\n",
    "# summarize the fit of the model\n",
    "print(confusion_matrix(y_test, y_pred))\n",
    "print(classification_report(y_test, y_pred))\n",
    "print(accuracy_score(y_test, y_pred))"
   ]
  },
  {
   "cell_type": "code",
   "execution_count": null,
   "metadata": {},
   "outputs": [],
   "source": []
  }
 ],
 "metadata": {
  "kernelspec": {
   "display_name": "Python 3",
   "language": "python",
   "name": "python3"
  },
  "language_info": {
   "codemirror_mode": {
    "name": "ipython",
    "version": 3
   },
   "file_extension": ".py",
   "mimetype": "text/x-python",
   "name": "python",
   "nbconvert_exporter": "python",
   "pygments_lexer": "ipython3",
   "version": "3.7.1"
  }
 },
 "nbformat": 4,
 "nbformat_minor": 2
}
